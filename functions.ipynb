{
 "cells": [
  {
   "cell_type": "markdown",
   "metadata": {},
   "source": [
    "# Useful variable gathering.\n",
    "## Notes\n",
    "First iteration is going to be a series of linked Lats and Longs. Don't worry too much about elevation, or make\n",
    "some small if condition that might discourage going paths with too much elevation maybe.\n",
    "\n",
    "Describe lat and longs for each point in the path."
   ]
  },
  {
   "cell_type": "markdown",
   "metadata": {},
   "source": [
    "## Import data\n",
    "Import the data using CSV files."
   ]
  },
  {
   "cell_type": "code",
   "execution_count": 1,
   "metadata": {},
   "outputs": [],
   "source": [
    "import pandas as pd\n",
    "df = pd.read_csv('carrauntoohil_data_set.csv')\n",
    "# zip() method combines iterables into a single iterator. Output is a tuple.\n",
    "points = list(zip(df['latitude'], df['longitude'], df['elevation']))"
   ]
  },
  {
   "cell_type": "markdown",
   "metadata": {},
   "source": [
    "# Return the highest and lowest values from the set.\n",
    "Using Pandas dataframes and the min() and max() methods to determine the lowest and highest values of the set."
   ]
  },
  {
   "cell_type": "code",
   "execution_count": 2,
   "metadata": {},
   "outputs": [
    {
     "name": "stdout",
     "output_type": "stream",
     "text": [
      "(52.00236741, -9.72965549, 334.6512145996094) (51.99895007, -9.74338607, 1006.589660644531)\n"
     ]
    }
   ],
   "source": [
    "# Return the highest and lowest values in the data set.\n",
    "lowest = min(points, key=lambda x: x[2])\n",
    "highest = max(points, key=lambda x: x[2])\n",
    "print(lowest, highest)"
   ]
  },
  {
   "cell_type": "markdown",
   "metadata": {},
   "source": [
    "## Create a Graph from data points using the NetworkX Library. "
   ]
  },
  {
   "cell_type": "code",
   "execution_count": 3,
   "metadata": {},
   "outputs": [],
   "source": [
    "from scipy.spatial import KDTree\n",
    "import networkx as nx\n",
    "\n",
    "# Graph Creation\n",
    "G = nx.Graph()\n",
    "tree = KDTree([(lat, lon) for lat, lon, _ in points])"
   ]
  },
  {
   "cell_type": "markdown",
   "metadata": {},
   "source": [
    "## Loop through the points array.\n",
    "This allows the data to be iterated and stored in a series of points.\n",
    "This allows assigning of indices based on neighbour values.\n",
    "Adds edge weighting based on the distance of elevation between points.\n",
    "There's a lot going on here, may take a few seconds to run."
   ]
  },
  {
   "cell_type": "code",
   "execution_count": 4,
   "metadata": {},
   "outputs": [],
   "source": [
    "for i, (lat, lon, elev) in enumerate(points):\n",
    "    G.add_node(i, pos=(lat, lon), elevation=elev)\n",
    "    distances, indices = tree.query((lat, lon), k=5)\n",
    "    for j, dist in zip(indices, distances):\n",
    "        if j != i:\n",
    "            elev_diff = abs(elev - points[j][2])\n",
    "            G.add_edge(i,j, weight=elev_diff + dist)"
   ]
  },
  {
   "cell_type": "markdown",
   "metadata": {},
   "source": [
    "### Define the source and destination points and use Dijkstra's(Shortest Path First) to find shortest path.\n",
    "Using the Networkx module, changing the algorithm for pathfinding is as simple as changing the name of the nx method.\n",
    "\n",
    "#### Using Shortest Path First Algorithm\n",
    "`path = nx.shortest_path(G, source=start, target=end, weight=\"weight\")` - Shortest path using shortest path algorithm.\n",
    "\n",
    "#### Using A* Algorithm\n",
    "`path = nx.astar_path(G, source=start, target=end, weight=\"weight\")` - Shortest path using A*."
   ]
  },
  {
   "cell_type": "code",
   "execution_count": 5,
   "metadata": {},
   "outputs": [
    {
     "name": "stdout",
     "output_type": "stream",
     "text": [
      "[(np.float64(52.00236741), np.float64(-9.72965549)), (np.float64(52.00236741), np.float64(-9.72980156)), (np.float64(52.00227748), np.float64(-9.72980156)), (np.float64(52.00218755), np.float64(-9.72980156)), (np.float64(52.00209762), np.float64(-9.72980156)), (np.float64(52.00200769), np.float64(-9.72980156)), (np.float64(52.00191776), np.float64(-9.72980156)), (np.float64(52.00182783), np.float64(-9.72980156)), (np.float64(52.00173789999999), np.float64(-9.72980156)), (np.float64(52.00173789999999), np.float64(-9.72994763)), (np.float64(52.00173789999999), np.float64(-9.7300937)), (np.float64(52.00173789999999), np.float64(-9.73023977)), (np.float64(52.00173789999999), np.float64(-9.73038584)), (np.float64(52.00164797), np.float64(-9.73038584)), (np.float64(52.00164797), np.float64(-9.73053191)), (np.float64(52.00155804), np.float64(-9.73053191)), (np.float64(52.00146811), np.float64(-9.73053191)), (np.float64(52.00146811), np.float64(-9.73067798)), (np.float64(52.00137818), np.float64(-9.73067798)), (np.float64(52.00137818), np.float64(-9.73082405)), (np.float64(52.00137818), np.float64(-9.73097012)), (np.float64(52.00137818), np.float64(-9.73111619)), (np.float64(52.00137818), np.float64(-9.73126226)), (np.float64(52.00137818), np.float64(-9.73140833)), (np.float64(52.00137818), np.float64(-9.7315544)), (np.float64(52.00137818), np.float64(-9.73170047)), (np.float64(52.00137818), np.float64(-9.73184654)), (np.float64(52.00137818), np.float64(-9.73199261)), (np.float64(52.00137818), np.float64(-9.73213868)), (np.float64(52.00137818), np.float64(-9.73228475)), (np.float64(52.00137818), np.float64(-9.73243082)), (np.float64(52.00137818), np.float64(-9.73257689)), (np.float64(52.00137818), np.float64(-9.73272296)), (np.float64(52.00137818), np.float64(-9.73286903)), (np.float64(52.00137818), np.float64(-9.7330151)), (np.float64(52.00137818), np.float64(-9.73316117)), (np.float64(52.00137818), np.float64(-9.73330724)), (np.float64(52.00137818), np.float64(-9.73345331)), (np.float64(52.00137818), np.float64(-9.73359938)), (np.float64(52.00137818), np.float64(-9.73374545)), (np.float64(52.00137818), np.float64(-9.73389152)), (np.float64(52.00137818), np.float64(-9.73403759)), (np.float64(52.00137818), np.float64(-9.73418366)), (np.float64(52.00137818), np.float64(-9.73432973)), (np.float64(52.00137818), np.float64(-9.7344758)), (np.float64(52.00137818), np.float64(-9.73462187)), (np.float64(52.00137818), np.float64(-9.73476794)), (np.float64(52.00128824999999), np.float64(-9.73476794)), (np.float64(52.00128824999999), np.float64(-9.73491401)), (np.float64(52.00119832), np.float64(-9.73491401)), (np.float64(52.00110839), np.float64(-9.73491401)), (np.float64(52.00101846), np.float64(-9.73491401)), (np.float64(52.00092853), np.float64(-9.73491401)), (np.float64(52.00083859999999), np.float64(-9.73491401)), (np.float64(52.00083859999999), np.float64(-9.73506008)), (np.float64(52.00074867), np.float64(-9.73506008)), (np.float64(52.00065874), np.float64(-9.73506008)), (np.float64(52.00056881), np.float64(-9.73506008)), (np.float64(52.00047888), np.float64(-9.73506008)), (np.float64(52.00038894999999), np.float64(-9.73506008)), (np.float64(52.00038894999999), np.float64(-9.73520615)), (np.float64(52.00029902), np.float64(-9.73520615)), (np.float64(52.00020909), np.float64(-9.73520615)), (np.float64(52.00011916), np.float64(-9.73520615)), (np.float64(52.00002923), np.float64(-9.73520615)), (np.float64(51.99993929999999), np.float64(-9.73520615)), (np.float64(51.99993929999999), np.float64(-9.73535222)), (np.float64(51.99984937), np.float64(-9.73535222)), (np.float64(51.99984937), np.float64(-9.73549829)), (np.float64(51.99984937), np.float64(-9.73564436)), (np.float64(51.99984937), np.float64(-9.73579043)), (np.float64(51.99975944), np.float64(-9.73579043)), (np.float64(51.99975944), np.float64(-9.7359365)), (np.float64(51.99966951), np.float64(-9.7359365)), (np.float64(51.99966951), np.float64(-9.73608257)), (np.float64(51.99966951), np.float64(-9.73622864)), (np.float64(51.99957958), np.float64(-9.73622864)), (np.float64(51.99957958), np.float64(-9.73637471)), (np.float64(51.99948964999999), np.float64(-9.73637471)), (np.float64(51.99948964999999), np.float64(-9.73652078)), (np.float64(51.99939972), np.float64(-9.73652078)), (np.float64(51.99939972), np.float64(-9.73666685)), (np.float64(51.99939972), np.float64(-9.73681292)), (np.float64(51.99930979), np.float64(-9.73681292)), (np.float64(51.99930979), np.float64(-9.73695899)), (np.float64(51.99921986), np.float64(-9.73695899)), (np.float64(51.99921986), np.float64(-9.73710506)), (np.float64(51.99912993), np.float64(-9.73710506)), (np.float64(51.99912993), np.float64(-9.73725113)), (np.float64(51.99912993), np.float64(-9.7373972)), (np.float64(51.99903999999999), np.float64(-9.7373972)), (np.float64(51.99903999999999), np.float64(-9.73754327)), (np.float64(51.99903999999999), np.float64(-9.73768934)), (np.float64(51.99903999999999), np.float64(-9.73783541)), (np.float64(51.99903999999999), np.float64(-9.73798148)), (np.float64(51.99903999999999), np.float64(-9.73812755)), (np.float64(51.99903999999999), np.float64(-9.73827362)), (np.float64(51.99895007), np.float64(-9.73827362)), (np.float64(51.99895007), np.float64(-9.73841969)), (np.float64(51.99895007), np.float64(-9.73856576)), (np.float64(51.99895007), np.float64(-9.73871183)), (np.float64(51.99895007), np.float64(-9.7388579)), (np.float64(51.99895007), np.float64(-9.73900397)), (np.float64(51.99895007), np.float64(-9.73915004)), (np.float64(51.99895007), np.float64(-9.73929611)), (np.float64(51.99895007), np.float64(-9.73944218)), (np.float64(51.99895007), np.float64(-9.73958825)), (np.float64(51.99895007), np.float64(-9.73973432)), (np.float64(51.99895007), np.float64(-9.73988039)), (np.float64(51.99895007), np.float64(-9.74002646)), (np.float64(51.99895007), np.float64(-9.74017253)), (np.float64(51.99895007), np.float64(-9.7403186)), (np.float64(51.99895007), np.float64(-9.74046467)), (np.float64(51.99895007), np.float64(-9.74061074)), (np.float64(51.99895007), np.float64(-9.74075681)), (np.float64(51.99895007), np.float64(-9.74090288)), (np.float64(51.99895007), np.float64(-9.74104895)), (np.float64(51.99895007), np.float64(-9.74119502)), (np.float64(51.99895007), np.float64(-9.74134109)), (np.float64(51.99895007), np.float64(-9.74148716)), (np.float64(51.99895007), np.float64(-9.74163323)), (np.float64(51.99895007), np.float64(-9.7417793)), (np.float64(51.99895007), np.float64(-9.74192537)), (np.float64(51.99895007), np.float64(-9.74207144)), (np.float64(51.99895007), np.float64(-9.74221751)), (np.float64(51.99895007), np.float64(-9.74236358)), (np.float64(51.99895007), np.float64(-9.74250965)), (np.float64(51.99895007), np.float64(-9.74265572)), (np.float64(51.99895007), np.float64(-9.74280179)), (np.float64(51.99895007), np.float64(-9.74294786)), (np.float64(51.99895007), np.float64(-9.74309393)), (np.float64(51.99895007), np.float64(-9.74324)), (np.float64(51.99895007), np.float64(-9.74338607))]\n"
     ]
    }
   ],
   "source": [
    "start = points.index(lowest)\n",
    "end = points.index(highest)\n",
    "path = nx.shortest_path(G, source=start, target=end, weight=\"weight\")\n",
    "path_coords = [(df.iloc[i]['latitude'], df.iloc[i]['longitude']) for i in path]\n",
    "print(path_coords)"
   ]
  },
  {
   "cell_type": "markdown",
   "metadata": {},
   "source": [
    "# Using Folium to display the completed map."
   ]
  },
  {
   "cell_type": "code",
   "execution_count": null,
   "metadata": {},
   "outputs": [],
   "source": [
    "import folium\n",
    "# Center the map at the midpoint between lowest and highest\n",
    "mid_lat = (lowest[0] + highest[0]) / 2\n",
    "mid_lon = (lowest[1] + highest[1]) / 2\n",
    "m = folium.Map(location=[mid_lat, mid_lon], zoom_start=13)\n",
    "\n",
    "# Add markers for the lowest and highest points\n",
    "folium.Marker(location=[lowest[0], lowest[1]], \n",
    "              popup=\"Lowest Point\", \n",
    "              icon=folium.Icon(color=\"green\")).add_to(m)\n",
    "folium.Marker(location=[highest[0], highest[1]], \n",
    "              popup=\"Highest Point\", \n",
    "              icon=folium.Icon(color=\"red\")).add_to(m)\n",
    "\n",
    "# Add the path as a polyline\n",
    "folium.PolyLine(locations=path_coords, color=\"blue\", weight=3, opacity=0.7).add_to(m)\n",
    "\n",
    "# Save map to HTML file\n",
    "m.save(\"path_map.html\")\n",
    "print(\"Map has been saved to 'path_map.html'.\")"
   ]
  }
 ],
 "metadata": {
  "kernelspec": {
   "display_name": "env",
   "language": "python",
   "name": "python3"
  },
  "language_info": {
   "codemirror_mode": {
    "name": "ipython",
    "version": 3
   },
   "file_extension": ".py",
   "mimetype": "text/x-python",
   "name": "python",
   "nbconvert_exporter": "python",
   "pygments_lexer": "ipython3",
   "version": "3.13.2"
  }
 },
 "nbformat": 4,
 "nbformat_minor": 2
}
